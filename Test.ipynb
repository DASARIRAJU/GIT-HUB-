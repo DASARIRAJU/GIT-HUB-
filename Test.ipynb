{
    "cells": [
        {
            "metadata": {
                "collapsed": true
            },
            "cell_type": "markdown",
            "source": "# My Jupyter Notebook on IBM Watson Studio\n"
        },
        {
            "metadata": {},
            "cell_type": "markdown",
            "source": "DASARI RAJU\n\nData Scientist\n"
        },
        {
            "metadata": {},
            "cell_type": "markdown",
            "source": "*I am interested in data science because , in coming Years Analysis of Data, Data Integration and Visualization of Data in different formats will help the Business Folks to unnderstand How they are Providing services to People and How they are receiving Feeedback*\n\n*Data scientists have a wide variety of skill sets that can leverage data and information to help organizations to make better strategic decisions. They get exciting opportunities to work and experiment with data to come \nup with the suitable solutions for the businesses*"
        },
        {
            "metadata": {},
            "cell_type": "markdown",
            "source": "# The following code represents the addtion of two numbers"
        },
        {
            "metadata": {},
            "cell_type": "code",
            "source": "a=1\nb=2\nc=a+b\nprint(c)\n",
            "execution_count": 10,
            "outputs": [
                {
                    "output_type": "stream",
                    "text": "3\n",
                    "name": "stdout"
                }
            ]
        },
        {
            "metadata": {},
            "cell_type": "markdown",
            "source": "~~The above code was not written in R Language~~\n\n\nThree or more...\n\n---\n\nHyphens\n\n***\n\n> Blockquotes are very handy in email to emulate reply text.\nQuote break.\n\n> This line is part of the same quote.\n\n\n\n\n\n"
        },
        {
            "metadata": {},
            "cell_type": "code",
            "source": "",
            "execution_count": null,
            "outputs": []
        }
    ],
    "metadata": {
        "kernelspec": {
            "name": "python3",
            "display_name": "Python 3.6",
            "language": "python"
        },
        "language_info": {
            "name": "python",
            "version": "3.6.9",
            "mimetype": "text/x-python",
            "codemirror_mode": {
                "name": "ipython",
                "version": 3
            },
            "pygments_lexer": "ipython3",
            "nbconvert_exporter": "python",
            "file_extension": ".py"
        }
    },
    "nbformat": 4,
    "nbformat_minor": 1
}